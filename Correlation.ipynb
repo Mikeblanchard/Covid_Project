{
  "nbformat": 4,
  "nbformat_minor": 0,
  "metadata": {
    "colab": {
      "name": "Correlation.ipynb",
      "provenance": []
    },
    "kernelspec": {
      "name": "python3",
      "display_name": "Python 3"
    },
    "language_info": {
      "name": "python"
    }
  },
  "cells": [
    {
      "cell_type": "code",
      "metadata": {
        "id": "LgMe_DXe7ztW"
      },
      "source": [
        "import pandas as pd\n",
        "import numpy as np\n",
        "from scipy import stats\n",
        "from scipy.stats import pearsonr"
      ],
      "execution_count": 61,
      "outputs": []
    },
    {
      "cell_type": "code",
      "metadata": {
        "id": "_9lyiRqE8Mq_"
      },
      "source": [
        "df = pd.read_csv(\"Food_Supply_Quantity_kg_Data.csv\")\n"
      ],
      "execution_count": null,
      "outputs": []
    },
    {
      "cell_type": "code",
      "metadata": {
        "colab": {
          "base_uri": "https://localhost:8080/"
        },
        "id": "WBfkWrYN8WVb",
        "outputId": "3146e063-e05e-49a4-a1ee-62b3e404729a"
      },
      "source": [
        "i = 1\n",
        "while i < 24:\n",
        "\n",
        "  r, p = pearsonr(df.iloc[:, i], df.Obesity )\n",
        "  colname = df.columns[i]\n",
        "\n",
        "  print(colname)\n",
        "  print(f'Correlation ', (round(r, 5)))\n",
        "  print(f'P Value     ', (round(p, 5)))\n",
        "  print('\\n')\n",
        "  \n",
        "\n",
        "  i+= 1\n",
        "\n"
      ],
      "execution_count": 137,
      "outputs": [
        {
          "output_type": "stream",
          "text": [
            "Alcoholic Beverages\n",
            "Correlation  0.16611\n",
            "P Value      0.0304\n",
            "\n",
            "\n",
            "Animal fats\n",
            "Correlation  0.34234\n",
            "P Value      0.0\n",
            "\n",
            "\n",
            "Animal Products\n",
            "Correlation  0.51512\n",
            "P Value      0.0\n",
            "\n",
            "\n",
            "Aquatic Products, Other\n",
            "Correlation  -0.09682\n",
            "P Value      0.20913\n",
            "\n",
            "\n",
            "Cereals - Excluding Beer\n",
            "Correlation  -0.54899\n",
            "P Value      0.0\n",
            "\n",
            "\n",
            "Eggs\n",
            "Correlation  0.38764\n",
            "P Value      0.0\n",
            "\n",
            "\n",
            "Fish, Seafood\n",
            "Correlation  -0.03446\n",
            "P Value      0.65555\n",
            "\n",
            "\n",
            "Fruits - Excluding Wine\n",
            "Correlation  0.15221\n",
            "P Value      0.04754\n",
            "\n",
            "\n",
            "Meat\n",
            "Correlation  0.54036\n",
            "P Value      0.0\n",
            "\n",
            "\n",
            "Milk - Excluding Butter\n",
            "Correlation  0.3811\n",
            "P Value      0.0\n",
            "\n",
            "\n",
            "Miscellaneous\n",
            "Correlation  0.18923\n",
            "P Value      0.01346\n",
            "\n",
            "\n",
            "Offals\n",
            "Correlation  -0.11844\n",
            "P Value      0.12398\n",
            "\n",
            "\n",
            "Oilcrops\n",
            "Correlation  0.10857\n",
            "P Value      0.15873\n",
            "\n",
            "\n",
            "Pulses\n",
            "Correlation  -0.40031\n",
            "P Value      0.0\n",
            "\n",
            "\n",
            "Spices\n",
            "Correlation  -0.18032\n",
            "P Value      0.01862\n",
            "\n",
            "\n",
            "Starchy Roots\n",
            "Correlation  -0.34767\n",
            "P Value      0.0\n",
            "\n",
            "\n",
            "Stimulants\n",
            "Correlation  0.11232\n",
            "P Value      0.14475\n",
            "\n",
            "\n",
            "Sugar & Sweeteners\n",
            "Correlation  0.44481\n",
            "P Value      0.0\n",
            "\n",
            "\n",
            "Sugar Crops\n",
            "Correlation  -0.18118\n",
            "P Value      0.01805\n",
            "\n",
            "\n",
            "Treenuts\n",
            "Correlation  0.10385\n",
            "P Value      0.17775\n",
            "\n",
            "\n",
            "Vegetable Oils\n",
            "Correlation  0.10864\n",
            "P Value      0.15846\n",
            "\n",
            "\n",
            "Vegetables\n",
            "Correlation  0.13509\n",
            "P Value      0.07901\n",
            "\n",
            "\n",
            "Vegetal Products\n",
            "Correlation  -0.51505\n",
            "P Value      0.0\n",
            "\n",
            "\n"
          ],
          "name": "stdout"
        }
      ]
    },
    {
      "cell_type": "code",
      "metadata": {
        "id": "xNhgi1r4B1ZC"
      },
      "source": [
        ""
      ],
      "execution_count": null,
      "outputs": []
    },
    {
      "cell_type": "code",
      "metadata": {
        "id": "QPXfsJwD8WS1"
      },
      "source": [
        ""
      ],
      "execution_count": null,
      "outputs": []
    },
    {
      "cell_type": "code",
      "metadata": {
        "id": "q6jWYm2u8WKd"
      },
      "source": [
        ""
      ],
      "execution_count": null,
      "outputs": []
    }
  ]
}
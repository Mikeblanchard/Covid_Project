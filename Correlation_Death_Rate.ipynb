{
  "nbformat": 4,
  "nbformat_minor": 0,
  "metadata": {
    "colab": {
      "name": "Correlation_Death_Rate.ipynb",
      "provenance": []
    },
    "kernelspec": {
      "name": "python3",
      "display_name": "Python 3"
    },
    "language_info": {
      "name": "python"
    }
  },
  "cells": [
    {
      "cell_type": "code",
      "metadata": {
        "id": "LgMe_DXe7ztW"
      },
      "source": [
        "import pandas as pd\n",
        "import numpy as np\n",
        "from scipy import stats\n",
        "from scipy.stats import pearsonr"
      ],
      "execution_count": 2,
      "outputs": []
    },
    {
      "cell_type": "code",
      "metadata": {
        "id": "_9lyiRqE8Mq_"
      },
      "source": [
        "df = pd.read_csv(\"Food_Supply_Quantity_kg_Data.csv\")\n",
        "dfm = pd.read_csv(\"Merged.csv\")\n",
        "\n",
        "dfm = dfm.fillna(0)"
      ],
      "execution_count": 17,
      "outputs": []
    },
    {
      "cell_type": "code",
      "metadata": {
        "id": "HumM5IFCZwWI"
      },
      "source": [
        "dfm.tail(20)"
      ],
      "execution_count": null,
      "outputs": []
    },
    {
      "cell_type": "code",
      "metadata": {
        "id": "WBfkWrYN8WVb"
      },
      "source": [
        "# 0 indicates no linear relationship\n",
        "# +1 indicates a perfect positive linear relationship. As x increases, y increases through an exact linear rule\n",
        "# -1 indicates a perfect negative linear relationship. As x increases, y decreases through an exact linear rule.\n",
        "# Values between 0 and 0.3 (0 and −0.3) indicate a weak positive or negative linear relationship through a shaky linear rule.\n",
        "# Values between 0.3 and 0.7 (0.3 and −0.7) indicate a moderate positive or negative linear relationship through a fuzzy-firm linear rule.\n",
        "# Values between 0.7 and 1.0 (−0.7 and −1.0) indicate a strong positive (negative) linear relationship through a firm linear rule.\n",
        "\n",
        "i = 1\n",
        "while i < 24:\n",
        "\n",
        "  r, p = pearsonr(df.iloc[:, i], df.Obesity )\n",
        "  colname = df.columns[i]\n",
        "\n",
        "  print(colname)\n",
        "  print(f'Correlation ', (round(r, 5)))\n",
        "  print(f'P Value     ', (round(p, 5)))\n",
        "  print('\\n')\n",
        "  \n",
        "\n",
        "  i+= 1"
      ],
      "execution_count": null,
      "outputs": []
    },
    {
      "cell_type": "code",
      "metadata": {
        "colab": {
          "base_uri": "https://localhost:8080/"
        },
        "id": "xNhgi1r4B1ZC",
        "outputId": "d8abfe0b-583f-4bfa-c650-072df3a6fd84"
      },
      "source": [
        "j = 12\n",
        "while j < 27:\n",
        "\n",
        "  rr, pp = pearsonr(dfm.iloc[:, j], dfm.Death_Rate)\n",
        "  colnames = dfm.columns[j]\n",
        "\n",
        "  print(\"Correlation between\", (colnames), \"and Death Rate\")\n",
        "  print(f' Correlation ', (round(rr, 5)))\n",
        "  print(f' P Value     ', (round(pp, 5)))\n",
        "  print('\\n')\n",
        "\n",
        "  j+= 1"
      ],
      "execution_count": 37,
      "outputs": [
        {
          "output_type": "stream",
          "text": [
            "Correlation between population and Death Rate\n",
            " Correlation  -0.00752\n",
            " P Value      0.9103\n",
            "\n",
            "\n",
            "Correlation between population_density and Death Rate\n",
            " Correlation  -0.00872\n",
            " P Value      0.89607\n",
            "\n",
            "\n",
            "Correlation between median_age and Death Rate\n",
            " Correlation  0.09444\n",
            " P Value      0.15613\n",
            "\n",
            "\n",
            "Correlation between aged_65_older and Death Rate\n",
            " Correlation  0.14163\n",
            " P Value      0.03293\n",
            "\n",
            "\n",
            "Correlation between aged_70_older and Death Rate\n",
            " Correlation  0.14767\n",
            " P Value      0.02609\n",
            "\n",
            "\n",
            "Correlation between gdp_per_capita and Death Rate\n",
            " Correlation  0.0919\n",
            " P Value      0.16762\n",
            "\n",
            "\n",
            "Correlation between extreme_poverty and Death Rate\n",
            " Correlation  -0.02752\n",
            " P Value      0.68\n",
            "\n",
            "\n",
            "Correlation between cardiovasc_death_rate and Death Rate\n",
            " Correlation  -0.04001\n",
            " P Value      0.54874\n",
            "\n",
            "\n",
            "Correlation between diabetes_prevalence and Death Rate\n",
            " Correlation  -0.04178\n",
            " P Value      0.53114\n",
            "\n",
            "\n",
            "Correlation between female_smokers and Death Rate\n",
            " Correlation  0.11367\n",
            " P Value      0.0875\n",
            "\n",
            "\n",
            "Correlation between male_smokers and Death Rate\n",
            " Correlation  0.02687\n",
            " P Value      0.68714\n",
            "\n",
            "\n",
            "Correlation between handwashing_facilities and Death Rate\n",
            " Correlation  -0.04247\n",
            " P Value      0.52441\n",
            "\n",
            "\n",
            "Correlation between hospital_beds_per_thousand and Death Rate\n",
            " Correlation  0.01522\n",
            " P Value      0.81958\n",
            "\n",
            "\n",
            "Correlation between life_expectancy and Death Rate\n",
            " Correlation  0.05583\n",
            " P Value      0.40251\n",
            "\n",
            "\n",
            "Correlation between human_development_index and Death Rate\n",
            " Correlation  0.09264\n",
            " P Value      0.16419\n",
            "\n",
            "\n"
          ],
          "name": "stdout"
        }
      ]
    },
    {
      "cell_type": "code",
      "metadata": {
        "id": "bPtYLNTazWFa"
      },
      "source": [
        ""
      ],
      "execution_count": null,
      "outputs": []
    },
    {
      "cell_type": "code",
      "metadata": {
        "id": "eFuRODg5zWzl"
      },
      "source": [
        ""
      ],
      "execution_count": null,
      "outputs": []
    },
    {
      "cell_type": "code",
      "metadata": {
        "id": "VdU9Yd9CAZ3K"
      },
      "source": [
        ""
      ],
      "execution_count": null,
      "outputs": []
    },
    {
      "cell_type": "code",
      "metadata": {
        "id": "QPXfsJwD8WS1"
      },
      "source": [
        ""
      ],
      "execution_count": null,
      "outputs": []
    },
    {
      "cell_type": "code",
      "metadata": {
        "id": "q6jWYm2u8WKd"
      },
      "source": [
        ""
      ],
      "execution_count": null,
      "outputs": []
    }
  ]
}
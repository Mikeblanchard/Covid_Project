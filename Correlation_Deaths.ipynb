{
  "nbformat": 4,
  "nbformat_minor": 0,
  "metadata": {
    "colab": {
      "name": "Correlation_Deaths.ipynb",
      "provenance": []
    },
    "kernelspec": {
      "name": "python3",
      "display_name": "Python 3"
    },
    "language_info": {
      "name": "python"
    }
  },
  "cells": [
    {
      "cell_type": "code",
      "metadata": {
        "id": "LgMe_DXe7ztW"
      },
      "source": [
        "import pandas as pd\n",
        "import numpy as np\n",
        "from scipy import stats\n",
        "from scipy.stats import pearsonr"
      ],
      "execution_count": 2,
      "outputs": []
    },
    {
      "cell_type": "code",
      "metadata": {
        "id": "_9lyiRqE8Mq_"
      },
      "source": [
        "df = pd.read_csv(\"Food_Supply_Quantity_kg_Data.csv\")\n",
        "dfm = pd.read_csv(\"Merged.csv\")\n",
        "\n",
        "dfm = dfm.fillna(0)"
      ],
      "execution_count": 17,
      "outputs": []
    },
    {
      "cell_type": "code",
      "metadata": {
        "id": "HumM5IFCZwWI"
      },
      "source": [
        "dfm.tail(20)"
      ],
      "execution_count": null,
      "outputs": []
    },
    {
      "cell_type": "code",
      "metadata": {
        "id": "WBfkWrYN8WVb"
      },
      "source": [
        "# 0 indicates no linear relationship\n",
        "# +1 indicates a perfect positive linear relationship. As x increases, y increases through an exact linear rule\n",
        "# -1 indicates a perfect negative linear relationship. As x increases, y decreases through an exact linear rule.\n",
        "# Values between 0 and 0.3 (0 and −0.3) indicate a weak positive or negative linear relationship through a shaky linear rule.\n",
        "# Values between 0.3 and 0.7 (0.3 and −0.7) indicate a moderate positive or negative linear relationship through a fuzzy-firm linear rule.\n",
        "# Values between 0.7 and 1.0 (−0.7 and −1.0) indicate a strong positive (negative) linear relationship through a firm linear rule.\n",
        "\n",
        "i = 1\n",
        "while i < 24:\n",
        "\n",
        "  r, p = pearsonr(df.iloc[:, i], df.Obesity )\n",
        "  colname = df.columns[i]\n",
        "\n",
        "  print(colname)\n",
        "  print(f'Correlation ', (round(r, 5)))\n",
        "  print(f'P Value     ', (round(p, 5)))\n",
        "  print('\\n')\n",
        "  \n",
        "\n",
        "  i+= 1"
      ],
      "execution_count": null,
      "outputs": []
    },
    {
      "cell_type": "code",
      "metadata": {
        "colab": {
          "base_uri": "https://localhost:8080/"
        },
        "id": "xNhgi1r4B1ZC",
        "outputId": "ba7e6975-055a-4557-b6ca-73c4a8fc00bc"
      },
      "source": [
        "j = 12\n",
        "while j < 27:\n",
        "\n",
        "  rr, pp = pearsonr(dfm.iloc[:, j], dfm.Deaths)\n",
        "  colnames = dfm.columns[j]\n",
        "\n",
        "  print(\"Correlation between\", (colnames), \"and Deaths\")\n",
        "  print(f' Correlation ', (round(rr, 5)))\n",
        "  print(f' P Value     ', (round(pp, 5)))\n",
        "  print('\\n')\n",
        "\n",
        "  j+= 1"
      ],
      "execution_count": 36,
      "outputs": [
        {
          "output_type": "stream",
          "text": [
            "Correlation between population and Deaths\n",
            " Correlation  -0.07067\n",
            " P Value      0.28909\n",
            "\n",
            "\n",
            "Correlation between population_density and Deaths\n",
            " Correlation  -0.08866\n",
            " P Value      0.18319\n",
            "\n",
            "\n",
            "Correlation between median_age and Deaths\n",
            " Correlation  0.54163\n",
            " P Value      0.0\n",
            "\n",
            "\n",
            "Correlation between aged_65_older and Deaths\n",
            " Correlation  0.65449\n",
            " P Value      0.0\n",
            "\n",
            "\n",
            "Correlation between aged_70_older and Deaths\n",
            " Correlation  0.65275\n",
            " P Value      0.0\n",
            "\n",
            "\n",
            "Correlation between gdp_per_capita and Deaths\n",
            " Correlation  0.31155\n",
            " P Value      0.0\n",
            "\n",
            "\n",
            "Correlation between extreme_poverty and Deaths\n",
            " Correlation  -0.20671\n",
            " P Value      0.00174\n",
            "\n",
            "\n",
            "Correlation between cardiovasc_death_rate and Deaths\n",
            " Correlation  0.02413\n",
            " P Value      0.71764\n",
            "\n",
            "\n",
            "Correlation between diabetes_prevalence and Deaths\n",
            " Correlation  0.01826\n",
            " P Value      0.78435\n",
            "\n",
            "\n",
            "Correlation between female_smokers and Deaths\n",
            " Correlation  0.61886\n",
            " P Value      0.0\n",
            "\n",
            "\n",
            "Correlation between male_smokers and Deaths\n",
            " Correlation  0.28657\n",
            " P Value      1e-05\n",
            "\n",
            "\n",
            "Correlation between handwashing_facilities and Deaths\n",
            " Correlation  -0.02549\n",
            " P Value      0.70252\n",
            "\n",
            "\n",
            "Correlation between hospital_beds_per_thousand and Deaths\n",
            " Correlation  0.40048\n",
            " P Value      0.0\n",
            "\n",
            "\n",
            "Correlation between life_expectancy and Deaths\n",
            " Correlation  0.28573\n",
            " P Value      1e-05\n",
            "\n",
            "\n",
            "Correlation between human_development_index and Deaths\n",
            " Correlation  0.47866\n",
            " P Value      0.0\n",
            "\n",
            "\n"
          ],
          "name": "stdout"
        }
      ]
    },
    {
      "cell_type": "code",
      "metadata": {
        "id": "bPtYLNTazWFa"
      },
      "source": [
        ""
      ],
      "execution_count": null,
      "outputs": []
    },
    {
      "cell_type": "code",
      "metadata": {
        "id": "eFuRODg5zWzl"
      },
      "source": [
        ""
      ],
      "execution_count": null,
      "outputs": []
    },
    {
      "cell_type": "code",
      "metadata": {
        "id": "VdU9Yd9CAZ3K"
      },
      "source": [
        ""
      ],
      "execution_count": null,
      "outputs": []
    },
    {
      "cell_type": "code",
      "metadata": {
        "id": "QPXfsJwD8WS1"
      },
      "source": [
        ""
      ],
      "execution_count": null,
      "outputs": []
    },
    {
      "cell_type": "code",
      "metadata": {
        "id": "q6jWYm2u8WKd"
      },
      "source": [
        ""
      ],
      "execution_count": null,
      "outputs": []
    }
  ]
}
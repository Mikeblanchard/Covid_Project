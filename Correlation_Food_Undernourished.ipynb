{
  "nbformat": 4,
  "nbformat_minor": 0,
  "metadata": {
    "colab": {
      "name": "Correlation_Food_Undernourished.ipynb",
      "provenance": []
    },
    "kernelspec": {
      "name": "python3",
      "display_name": "Python 3"
    },
    "language_info": {
      "name": "python"
    }
  },
  "cells": [
    {
      "cell_type": "code",
      "metadata": {
        "id": "LgMe_DXe7ztW"
      },
      "source": [
        "import pandas as pd\n",
        "import numpy as np\n",
        "from scipy import stats\n",
        "from scipy.stats import pearsonr"
      ],
      "execution_count": 61,
      "outputs": []
    },
    {
      "cell_type": "code",
      "metadata": {
        "id": "_9lyiRqE8Mq_"
      },
      "source": [
        "df = pd.read_csv(\"Food_Supply_Quantity_kg_Data.csv\")\n"
      ],
      "execution_count": null,
      "outputs": []
    },
    {
      "cell_type": "code",
      "metadata": {
        "colab": {
          "base_uri": "https://localhost:8080/"
        },
        "id": "WBfkWrYN8WVb",
        "outputId": "55a2ef06-fb2a-4558-e4e4-dce2b22e9441"
      },
      "source": [
        "# 0 indicates no linear relationship\n",
        "# +1 indicates a perfect positive linear relationship. As x increases, y increases through an exact linear rule\n",
        "# -1 indicates a perfect negative linear relationship. As x increases, y decreases through an exact linear rule.\n",
        "# Values between 0 and 0.3 (0 and −0.3) indicate a weak positive or negative linear relationship through a shaky linear rule.\n",
        "# Values between 0.3 and 0.7 (0.3 and −0.7) indicate a moderate positive or negative linear relationship through a fuzzy-firm linear rule.\n",
        "# Values between 0.7 and 1.0 (−0.7 and −1.0) indicate a strong positive (negative) linear relationship through a firm linear rule.\n",
        "\n",
        "i = 1\n",
        "while i < 24:\n",
        "\n",
        "  r, p = pearsonr(df.iloc[:, i], df.Undernourished )\n",
        "  colname = df.columns[i]\n",
        "\n",
        "  print(colname)\n",
        "  print(f'Correlation ', (round(r, 5)))\n",
        "  print(f'P Value     ', (round(p, 5)))\n",
        "  print('\\n')\n",
        "  \n",
        "\n",
        "  i+= 1"
      ],
      "execution_count": 138,
      "outputs": [
        {
          "output_type": "stream",
          "text": [
            "Alcoholic Beverages\n",
            "Correlation  -0.18143\n",
            "P Value      0.01789\n",
            "\n",
            "\n",
            "Animal fats\n",
            "Correlation  -0.37626\n",
            "P Value      0.0\n",
            "\n",
            "\n",
            "Animal Products\n",
            "Correlation  -0.53797\n",
            "P Value      0.0\n",
            "\n",
            "\n",
            "Aquatic Products, Other\n",
            "Correlation  -0.07393\n",
            "P Value      0.33802\n",
            "\n",
            "\n",
            "Cereals - Excluding Beer\n",
            "Correlation  0.41911\n",
            "P Value      0.0\n",
            "\n",
            "\n",
            "Eggs\n",
            "Correlation  -0.44532\n",
            "P Value      0.0\n",
            "\n",
            "\n",
            "Fish, Seafood\n",
            "Correlation  -0.15485\n",
            "P Value      0.04378\n",
            "\n",
            "\n",
            "Fruits - Excluding Wine\n",
            "Correlation  0.0031\n",
            "P Value      0.96795\n",
            "\n",
            "\n",
            "Meat\n",
            "Correlation  -0.37921\n",
            "P Value      0.0\n",
            "\n",
            "\n",
            "Milk - Excluding Butter\n",
            "Correlation  -0.40787\n",
            "P Value      0.0\n",
            "\n",
            "\n",
            "Miscellaneous\n",
            "Correlation  -0.10371\n",
            "P Value      0.17835\n",
            "\n",
            "\n",
            "Offals\n",
            "Correlation  0.15113\n",
            "P Value      0.04914\n",
            "\n",
            "\n",
            "Oilcrops\n",
            "Correlation  -0.04561\n",
            "P Value      0.5548\n",
            "\n",
            "\n",
            "Pulses\n",
            "Correlation  0.4205\n",
            "P Value      0.0\n",
            "\n",
            "\n",
            "Spices\n",
            "Correlation  -0.10937\n",
            "P Value      0.15569\n",
            "\n",
            "\n",
            "Starchy Roots\n",
            "Correlation  0.44881\n",
            "P Value      0.0\n",
            "\n",
            "\n",
            "Stimulants\n",
            "Correlation  -0.15852\n",
            "P Value      0.03896\n",
            "\n",
            "\n",
            "Sugar & Sweeteners\n",
            "Correlation  -0.24885\n",
            "P Value      0.00107\n",
            "\n",
            "\n",
            "Sugar Crops\n",
            "Correlation  0.05531\n",
            "P Value      0.47375\n",
            "\n",
            "\n",
            "Treenuts\n",
            "Correlation  -0.21586\n",
            "P Value      0.0047\n",
            "\n",
            "\n",
            "Vegetable Oils\n",
            "Correlation  0.04724\n",
            "P Value      0.54071\n",
            "\n",
            "\n",
            "Vegetables\n",
            "Correlation  -0.29616\n",
            "P Value      9e-05\n",
            "\n",
            "\n",
            "Vegetal Products\n",
            "Correlation  0.538\n",
            "P Value      0.0\n",
            "\n",
            "\n"
          ],
          "name": "stdout"
        }
      ]
    },
    {
      "cell_type": "code",
      "metadata": {
        "id": "xNhgi1r4B1ZC"
      },
      "source": [
        ""
      ],
      "execution_count": null,
      "outputs": []
    },
    {
      "cell_type": "code",
      "metadata": {
        "id": "QPXfsJwD8WS1"
      },
      "source": [
        ""
      ],
      "execution_count": null,
      "outputs": []
    },
    {
      "cell_type": "code",
      "metadata": {
        "id": "q6jWYm2u8WKd"
      },
      "source": [
        ""
      ],
      "execution_count": null,
      "outputs": []
    }
  ]
}
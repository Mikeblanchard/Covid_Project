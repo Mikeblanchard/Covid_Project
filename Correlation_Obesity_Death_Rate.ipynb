{
  "nbformat": 4,
  "nbformat_minor": 0,
  "metadata": {
    "colab": {
      "name": "Correlation_Obesity_Death_Rate.ipynb",
      "provenance": []
    },
    "kernelspec": {
      "name": "python3",
      "display_name": "Python 3"
    },
    "language_info": {
      "name": "python"
    }
  },
  "cells": [
    {
      "cell_type": "code",
      "metadata": {
        "id": "GCjNk-_3zKYw"
      },
      "source": [
        "import pandas as pd\n",
        "import numpy as np\n",
        "from scipy import stats\n",
        "from scipy.stats import pearsonr"
      ],
      "execution_count": 1,
      "outputs": []
    },
    {
      "cell_type": "code",
      "metadata": {
        "id": "YgaFXmPYzOZ9"
      },
      "source": [
        "df = pd.read_csv(\"Food_Supply_Quantity_kg_Data.csv\")"
      ],
      "execution_count": 2,
      "outputs": []
    },
    {
      "cell_type": "code",
      "metadata": {
        "colab": {
          "base_uri": "https://localhost:8080/"
        },
        "id": "Bjo9fW-Q0S0L",
        "outputId": "414b1ed7-091d-4756-a16f-bdb439f49322"
      },
      "source": [
        "# 0 indicates no linear relationship\n",
        "# +1 indicates a perfect positive linear relationship. As x increases, y increases through an exact linear rule\n",
        "# -1 indicates a perfect negative linear relationship. As x increases, y decreases through an exact linear rule.\n",
        "# Values between 0 and 0.3 (0 and −0.3) indicate a weak positive or negative linear relationship through a shaky linear rule.\n",
        "# Values between 0.3 and 0.7 (0.3 and −0.7) indicate a moderate positive or negative linear relationship through a fuzzy-firm linear rule.\n",
        "# Values between 0.7 and 1.0 (−0.7 and −1.0) indicate a strong positive (negative) linear relationship through a firm linear rule.\n",
        "\n",
        "\n",
        "\n",
        "i = 24\n",
        "\n",
        "r, p = pearsonr(df.iloc[:, i], df['Death_Rate'] )\n",
        "colname = df.columns[i]\n",
        "\n",
        "print((colname), \"in relation to Death Rate\")\n",
        "print(f'Correlation ', (round(r, 5)))\n",
        "print(f'P Value     ', (round(p, 5)))\n",
        "print('\\n')\n"
      ],
      "execution_count": 6,
      "outputs": [
        {
          "output_type": "stream",
          "text": [
            "Obesity in relation to Death Rate\n",
            "Correlation  0.08732\n",
            "P Value      0.25753\n",
            "\n",
            "\n"
          ],
          "name": "stdout"
        }
      ]
    }
  ]
}